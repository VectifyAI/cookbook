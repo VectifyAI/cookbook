{
  "cells": [
    {
      "cell_type": "markdown",
      "metadata": {
        "id": "tI7vcz7-ooxy"
      },
      "source": [
        "# 📄 PageIndex OCR SDK: Python Quickstart\n",
        "\n",
        "Welcome to the PageIndex OCR SDK tutorial!\n",
        "\n",
        "This notebook will guide you step-by-step through installing the SDK, authenticating with your API key, uploading a PDF for OCR, checking the processing status, gettting OCR results, and finally cleaning up by deleting your document.\n",
        "\n",
        "> **You’ll need your [API Key](https://dash.pageindex.ai/api-keys) to run this notebook.**"
      ]
    },
    {
      "cell_type": "markdown",
      "metadata": {
        "id": "kIjn2vW1ooxz"
      },
      "source": [
        "## 1️⃣ Install the SDK\n",
        "\n",
        "Run the cell below to install the PageIndex OCR SDK. This only needs to be done once in your environment."
      ]
    },
    {
      "cell_type": "code",
      "execution_count": null,
      "metadata": {
        "id": "zY9af_12oox0",
        "outputId": "67c620b7-e420-48b4-9fd8-948796048d24",
        "colab": {
          "base_uri": "https://localhost:8080/"
        }
      },
      "outputs": [
        {
          "output_type": "stream",
          "name": "stdout",
          "text": [
            "Collecting pageindex\n",
            "  Downloading pageindex-0.1.3-py3-none-any.whl.metadata (600 bytes)\n",
            "Requirement already satisfied: requests<3.0.0,>=2.31.0 in /usr/local/lib/python3.11/dist-packages (from pageindex) (2.32.3)\n",
            "Requirement already satisfied: charset-normalizer<4,>=2 in /usr/local/lib/python3.11/dist-packages (from requests<3.0.0,>=2.31.0->pageindex) (3.4.2)\n",
            "Requirement already satisfied: idna<4,>=2.5 in /usr/local/lib/python3.11/dist-packages (from requests<3.0.0,>=2.31.0->pageindex) (3.10)\n",
            "Requirement already satisfied: urllib3<3,>=1.21.1 in /usr/local/lib/python3.11/dist-packages (from requests<3.0.0,>=2.31.0->pageindex) (2.5.0)\n",
            "Requirement already satisfied: certifi>=2017.4.17 in /usr/local/lib/python3.11/dist-packages (from requests<3.0.0,>=2.31.0->pageindex) (2025.7.14)\n",
            "Downloading pageindex-0.1.3-py3-none-any.whl (2.5 kB)\n",
            "Installing collected packages: pageindex\n",
            "Successfully installed pageindex-0.1.3\n"
          ]
        }
      ],
      "source": [
        "!pip install pageindex"
      ]
    },
    {
      "cell_type": "markdown",
      "metadata": {
        "id": "1mgLrLd6oox0"
      },
      "source": [
        "## 2️⃣ Initialize the Client\n",
        "\n",
        "Import the PageIndex client class and authenticate using your API key. Be sure to keep your API key secret and never share it publicly."
      ]
    },
    {
      "cell_type": "code",
      "execution_count": null,
      "metadata": {
        "id": "Vr9JN4Tsoox0"
      },
      "outputs": [],
      "source": [
        "from pageindex import PageIndexClient\n",
        "\n",
        "API_KEY = \"YOUR_API_KEY\"  # Paste your API key here\n",
        "pi_client = PageIndexClient(api_key=API_KEY)"
      ]
    },
    {
      "cell_type": "markdown",
      "metadata": {
        "id": "DWIFjkH2oox0"
      },
      "source": [
        "## 3️⃣ Submit a PDF Document for OCR\n",
        "\n",
        "Use the client to upload a PDF file for OCR processing (currently supports PDF files only).\n",
        "\n",
        "After submission, you'll receive a `doc_id` that you can use to check status and get OCR results.\n",
        "\n",
        "> Replace the file path below with your own PDF file if needed."
      ]
    },
    {
      "cell_type": "code",
      "execution_count": null,
      "metadata": {
        "id": "znRzYxHQoox0"
      },
      "outputs": [],
      "source": [
        "pdf_path = \"./2023-annual-report.pdf\"\n",
        "\n",
        "result = pi_client.submit_document(pdf_path)\n",
        "doc_id = result[\"doc_id\"]\n",
        "print(f\"Document submitted. Document ID: {doc_id}\")"
      ]
    },
    {
      "cell_type": "markdown",
      "metadata": {
        "id": "NYyFY2aXoox0"
      },
      "source": [
        "## 4️⃣ Check Status and Get OCR Results\n",
        "\n",
        "OCR processing may take anywhere from a few seconds (for small files) to several minutes (for larger files).\n",
        "\n",
        "This code polls the service every 3 seconds, for up to 5 minutes. Once finished, it previews the extracted text from the first page."
      ]
    },
    {
      "cell_type": "code",
      "execution_count": null,
      "metadata": {
        "id": "E5NFI1XRoox1",
        "colab": {
          "base_uri": "https://localhost:8080/",
          "height": 216
        },
        "outputId": "c03cbf31-d4c3-4d08-97fb-847587cdb371"
      },
      "outputs": [
        {
          "output_type": "error",
          "ename": "NameError",
          "evalue": "name 'pi_client' is not defined",
          "traceback": [
            "\u001b[0;31m---------------------------------------------------------------------------\u001b[0m",
            "\u001b[0;31mNameError\u001b[0m                                 Traceback (most recent call last)",
            "\u001b[0;32m/tmp/ipython-input-328334676.py\u001b[0m in \u001b[0;36m<cell line: 0>\u001b[0;34m()\u001b[0m\n\u001b[1;32m      3\u001b[0m \u001b[0;31m# Simple polling\u001b[0m\u001b[0;34m\u001b[0m\u001b[0;34m\u001b[0m\u001b[0m\n\u001b[1;32m      4\u001b[0m \u001b[0;32mfor\u001b[0m \u001b[0mattempt\u001b[0m \u001b[0;32min\u001b[0m \u001b[0mrange\u001b[0m\u001b[0;34m(\u001b[0m\u001b[0;36m60\u001b[0m\u001b[0;34m)\u001b[0m\u001b[0;34m:\u001b[0m  \u001b[0;31m# Try up to 300s (100 x 3s)\u001b[0m\u001b[0;34m\u001b[0m\u001b[0;34m\u001b[0m\u001b[0m\n\u001b[0;32m----> 5\u001b[0;31m     \u001b[0mocr_result\u001b[0m \u001b[0;34m=\u001b[0m \u001b[0mpi_client\u001b[0m\u001b[0;34m.\u001b[0m\u001b[0mget_ocr\u001b[0m\u001b[0;34m(\u001b[0m\u001b[0mdoc_id\u001b[0m\u001b[0;34m)\u001b[0m\u001b[0;34m\u001b[0m\u001b[0;34m\u001b[0m\u001b[0m\n\u001b[0m\u001b[1;32m      6\u001b[0m     \u001b[0;32mif\u001b[0m \u001b[0mocr_result\u001b[0m\u001b[0;34m[\u001b[0m\u001b[0;34m\"status\"\u001b[0m\u001b[0;34m]\u001b[0m \u001b[0;34m==\u001b[0m \u001b[0;34m\"completed\"\u001b[0m\u001b[0;34m:\u001b[0m\u001b[0;34m\u001b[0m\u001b[0;34m\u001b[0m\u001b[0m\n\u001b[1;32m      7\u001b[0m         \u001b[0mprint\u001b[0m\u001b[0;34m(\u001b[0m\u001b[0;34m\"OCR Results ready!\"\u001b[0m\u001b[0;34m)\u001b[0m\u001b[0;34m\u001b[0m\u001b[0;34m\u001b[0m\u001b[0m\n",
            "\u001b[0;31mNameError\u001b[0m: name 'pi_client' is not defined"
          ]
        }
      ],
      "source": [
        "import time\n",
        "\n",
        "# Simple polling\n",
        "for attempt in range(60):  # Try up to 300s (100 x 3s)\n",
        "    ocr_result = pi_client.get_ocr(doc_id)\n",
        "    if ocr_result[\"status\"] == \"completed\":\n",
        "        print(\"OCR Results ready!\")\n",
        "        break\n",
        "    elif ocr_result[\"status\"] == \"failed\":\n",
        "        print(\"OCR failed.\")\n",
        "        break\n",
        "    time.sleep(3)\n",
        "else:\n",
        "    print(\"Still processing after 10 minutes. Try again later.\")\n",
        "\n",
        "# Preview the first page's markdown\n",
        "if ocr_result.get(\"status\") == \"completed\":\n",
        "    if ocr_result[\"result\"]:\n",
        "        first_page = ocr_result[\"result\"][0]\n",
        "        print(f\"Page {first_page['page_index']} (partial content):\\n\")\n",
        "        print(first_page[\"markdown\"][:1000])  # Print first 1000 chars\n",
        "    else:\n",
        "        print(\"No pages found in OCR result.\")\n",
        "else:\n",
        "    print(\"OCR not completed yet. Try again later.\")"
      ]
    },
    {
      "cell_type": "markdown",
      "metadata": {
        "id": "tBgnTpNJoox1"
      },
      "source": [
        "## 5️⃣ Get the Document Tree Structure\n",
        "\n",
        "You can also get the document's PageIndex tree structure using the method below. If the tree is not ready yet, try again later."
      ]
    },
    {
      "cell_type": "code",
      "execution_count": null,
      "metadata": {
        "id": "NwR0ooMZoox1"
      },
      "outputs": [],
      "source": [
        "tree_result = pi_client.get_tree(doc_id)\n",
        "if tree_result.get(\"status\") == \"completed\":\n",
        "    print(\"Document tree structure loaded!\")\n",
        "    print(tree_result.get(\"result\"))\n",
        "else:\n",
        "    print(f\"Tree status: {tree_result.get('status')}. Try again later if still processing.\")"
      ]
    },
    {
      "cell_type": "markdown",
      "metadata": {
        "id": "wRmOOrTBoox1"
      },
      "source": [
        "## 6️⃣ Delete the Document (Cleanup)\n",
        "\n",
        "If you do not need the document any more, you can delete it by running the code below."
      ]
    },
    {
      "cell_type": "code",
      "execution_count": null,
      "metadata": {
        "id": "fbSbEwWUoox1"
      },
      "outputs": [],
      "source": [
        "pi_client.delete_document(doc_id)\n",
        "print(\"Document deleted successfully.\")"
      ]
    },
    {
      "cell_type": "markdown",
      "metadata": {
        "id": "4QAzzxjooox1"
      },
      "source": [
        "---\n",
        "\n",
        "# 💬 Notes & Support\n",
        "\n",
        "- Only **PDF files** are supported at this time.\n",
        "- If you have any questions or need help:\n",
        "    - 🤝 [Join the PageIndex Discord](https://discord.gg/VuXuf29EUj)\n",
        "    - 📨 [Contact support via Typeform](https://ii2abc2jejf.typeform.com/to/meB40zV0)\n",
        "\n",
        "---\n",
        "\n",
        "### Full SDK Reference  \n",
        "See: [PageIndex OCR SDK Reference](https://pageindex.ai/ocr/sdk) for advanced usage and all available parameters."
      ]
    }
  ],
  "metadata": {
    "kernelspec": {
      "display_name": "Python 3",
      "language": "python",
      "name": "python3"
    },
    "language_info": {
      "name": "python",
      "version": "3.8"
    },
    "colab": {
      "provenance": []
    }
  },
  "nbformat": 4,
  "nbformat_minor": 0
}